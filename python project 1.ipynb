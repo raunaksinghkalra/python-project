{
 "cells": [
  {
   "cell_type": "code",
   "execution_count": 7,
   "id": "ccab70c6",
   "metadata": {},
   "outputs": [
    {
     "name": "stdout",
     "output_type": "stream",
     "text": [
      "would you like to play game? Yes/Noyes\n",
      "enter your player1 name =raunak\n",
      "enter the player2 name =yash\n",
      "_______________the python game____________xxxxx(ROCK,PAPER SCISSER)xxxxx\n",
      "enter raunak choice(rock,paper,scissor)=paper\n",
      "enter yash choice(rock,paper,scissor)=rock\n",
      "player raunak is the winner\n",
      "would you like to play game? Yes/Noyes\n",
      "_______________the python game____________xxxxx(ROCK,PAPER SCISSER)xxxxx\n",
      "enter raunak choice(rock,paper,scissor)=scissor\n",
      "enter yash choice(rock,paper,scissor)=rock\n",
      "player yash is winner\n",
      "would you like to play game? Yes/Noyes\n",
      "_______________the python game____________xxxxx(ROCK,PAPER SCISSER)xxxxx\n",
      "enter raunak choice(rock,paper,scissor)=rock\n",
      "enter yash choice(rock,paper,scissor)=scissor\n",
      "player raunak is winner\n",
      "would you like to play game? Yes/Nono\n",
      "_________________thanku for playing____________________\n",
      "the total matches played =3 in which raunak won=2 or yash won=1)\n"
     ]
    }
   ],
   "source": [
    "exit=input(\"would you like to play game? Yes/No\")\n",
    "player1= input(\"enter your player1 name =\")\n",
    "player2=input(\"enter the player2 name =\")\n",
    "score_1=0\n",
    "score_2=0\n",
    "total_score=0\n",
    "while exit==\"yes\":\n",
    "    print(\"_______________the python game____________xxxxx(ROCK,PAPER SCISSER)xxxxx\")\n",
    "    \n",
    "    a=input(f\"enter {player1} choice(rock,paper,scissor)=\")\n",
    "    b=input(f\"enter {player2} choice(rock,paper,scissor)=\")\n",
    "    if a==b:\n",
    "        print(\"draw\")\n",
    "   \n",
    "    elif a==\"rock\" and b==\"paper\":\n",
    "        print(f\"player {player2} is the winner\")\n",
    "        score_2+=1\n",
    "         \n",
    "    elif a==\"paper\" and b==\"rock\":\n",
    "        print(f\"player {player1} is the winner\")\n",
    "        score_1+=1\n",
    "         \n",
    "    elif a==\"scissor\" and b==\"paper\":\n",
    "        print(f\"player {player1} is winner\")\n",
    "        score_1+=1\n",
    "         \n",
    "    elif a==\"paper\" and b==\"scissor\":\n",
    "        print(f\"player {player2} is winner\")\n",
    "        score_2+=1\n",
    "         \n",
    "    elif a==\"rock\" and b==\"scissor\":\n",
    "        print(f\"player {player1} is winner\")\n",
    "        score_1+=1\n",
    "         \n",
    "    elif a==\"scissor\" and b==\"rock\":\n",
    "        print(f\"player {player2} is winner\")\n",
    "        score_2+=1\n",
    "         \n",
    "    else:\n",
    "        print(\"wrong value\")\n",
    "    exit=input(\"would you like to play game? Yes/No\")\n",
    "    total_score+=1\n",
    "    \n",
    "\n",
    "    \n",
    "else:\n",
    "    print(\"_________________thanku for playing____________________\")\n",
    "\n",
    "\n",
    "print(f\"the total matches played ={total_score} in which {player1} won={score_1} or {player2} won={score_2})\")"
   ]
  },
  {
   "cell_type": "code",
   "execution_count": null,
   "id": "455bca6b",
   "metadata": {},
   "outputs": [],
   "source": []
  }
 ],
 "metadata": {
  "kernelspec": {
   "display_name": "Python 3 (ipykernel)",
   "language": "python",
   "name": "python3"
  },
  "language_info": {
   "codemirror_mode": {
    "name": "ipython",
    "version": 3
   },
   "file_extension": ".py",
   "mimetype": "text/x-python",
   "name": "python",
   "nbconvert_exporter": "python",
   "pygments_lexer": "ipython3",
   "version": "3.11.4"
  }
 },
 "nbformat": 4,
 "nbformat_minor": 5
}
